{
  "nbformat": 4,
  "nbformat_minor": 0,
  "metadata": {
    "colab": {
      "provenance": [],
      "authorship_tag": "ABX9TyPEWUP/pq0aKuQnN6YysTCV",
      "include_colab_link": true
    },
    "kernelspec": {
      "name": "python3",
      "display_name": "Python 3"
    },
    "language_info": {
      "name": "python"
    }
  },
  "cells": [
    {
      "cell_type": "markdown",
      "metadata": {
        "id": "view-in-github",
        "colab_type": "text"
      },
      "source": [
        "<a href=\"https://colab.research.google.com/github/sahin-arslan/VeriMadenciligi/blob/main/OgrenciBasariTahminleme.ipynb\" target=\"_parent\"><img src=\"https://colab.research.google.com/assets/colab-badge.svg\" alt=\"Open In Colab\"/></a>"
      ]
    },
    {
      "cell_type": "code",
      "source": [
        "from IPython import get_ipython\n",
        "from IPython.display import display\n",
        "\n",
        "!pip install optuna\n",
        "import optuna # Changed to lowercase 'o'\n",
        "from sklearn.ensemble import RandomForestRegressor # Changed to Regressor\n",
        "from sklearn.model_selection import train_test_split, cross_val_score\n",
        "from sklearn.metrics import mean_squared_error # Changed metric for regression\n",
        "\n",
        "# 1. Veri setini yükleme ve hazırlama\n",
        "import pandas as pd\n",
        "data = pd.read_csv(\"StudentDataSets.csv\")  # Veri setinizi buraya yükleyin\n",
        "\n",
        "# Hedef değişken ve özellikleri belirleyin\n",
        "X = data.drop(columns=[\"GPA\"])  # Hedef sütun hariç tüm sütunlar\n",
        "y = data[\"GPA\"]  # Hedef sütun\n",
        "\n",
        "# Eğer kategorik veriler varsa, dummies ile dönüştürün\n",
        "X = pd.get_dummies(X, drop_first=True)\n",
        "\n",
        "# Eğitim ve test seti oluşturma\n",
        "X_train, X_test, y_train, y_test = train_test_split(X, y, test_size=0.2, random_state=42)\n",
        "\n",
        ""
      ],
      "metadata": {
        "colab": {
          "base_uri": "https://localhost:8080/"
        },
        "id": "3wSYHGlDG8G4",
        "outputId": "20e26c9a-ca3d-4dac-a5bb-0edb6293d29b"
      },
      "execution_count": 1,
      "outputs": [
        {
          "output_type": "stream",
          "name": "stdout",
          "text": [
            "Requirement already satisfied: optuna in /usr/local/lib/python3.11/dist-packages (4.1.0)\n",
            "Requirement already satisfied: alembic>=1.5.0 in /usr/local/lib/python3.11/dist-packages (from optuna) (1.14.0)\n",
            "Requirement already satisfied: colorlog in /usr/local/lib/python3.11/dist-packages (from optuna) (6.9.0)\n",
            "Requirement already satisfied: numpy in /usr/local/lib/python3.11/dist-packages (from optuna) (1.26.4)\n",
            "Requirement already satisfied: packaging>=20.0 in /usr/local/lib/python3.11/dist-packages (from optuna) (24.2)\n",
            "Requirement already satisfied: sqlalchemy>=1.4.2 in /usr/local/lib/python3.11/dist-packages (from optuna) (2.0.37)\n",
            "Requirement already satisfied: tqdm in /usr/local/lib/python3.11/dist-packages (from optuna) (4.67.1)\n",
            "Requirement already satisfied: PyYAML in /usr/local/lib/python3.11/dist-packages (from optuna) (6.0.2)\n",
            "Requirement already satisfied: Mako in /usr/local/lib/python3.11/dist-packages (from alembic>=1.5.0->optuna) (1.3.8)\n",
            "Requirement already satisfied: typing-extensions>=4 in /usr/local/lib/python3.11/dist-packages (from alembic>=1.5.0->optuna) (4.12.2)\n",
            "Requirement already satisfied: greenlet!=0.4.17 in /usr/local/lib/python3.11/dist-packages (from sqlalchemy>=1.4.2->optuna) (3.1.1)\n",
            "Requirement already satisfied: MarkupSafe>=0.9.2 in /usr/local/lib/python3.11/dist-packages (from Mako->alembic>=1.5.0->optuna) (3.0.2)\n"
          ]
        }
      ]
    },
    {
      "cell_type": "code",
      "source": [
        "# 2. Hiperparametre optimizasyonu için bir hedef fonksiyonu tanımlayın\n",
        "def objective(trial):\n",
        "    # Optuna'nın optimize etmesi için hiperparametreler\n",
        "    n_estimators = trial.suggest_int(\"n_estimators\", 10, 200)  # Ağaç sayısı\n",
        "    max_depth = trial.suggest_int(\"max_depth\", 2, 32)  # Ağaç derinliği\n",
        "    min_samples_split = trial.suggest_int(\"min_samples_split\", 2, 20)  # Minimum dal bölme\n",
        "    min_samples_leaf = trial.suggest_int(\"min_samples_leaf\", 1, 20)  # Minimum yaprak boyutu\n",
        "\n",
        "    # Random Forest modeli - Changed to Regressor for continuous target\n",
        "    model = RandomForestRegressor(\n",
        "        n_estimators=n_estimators,\n",
        "        max_depth=max_depth,\n",
        "        min_samples_split=min_samples_split,\n",
        "        min_samples_leaf=min_samples_leaf,\n",
        "        random_state=42\n",
        "    )\n",
        "\n",
        "    # Çapraz doğrulama ile model performansını değerlendirin - Using negative MSE for maximization\n",
        "    score = -cross_val_score(model, X_train, y_train, cv=5, scoring=\"neg_mean_squared_error\").mean()\n",
        "    return score\n",
        "\n",
        ""
      ],
      "metadata": {
        "id": "xEqaWSqXHDi3"
      },
      "execution_count": 2,
      "outputs": []
    },
    {
      "cell_type": "code",
      "source": [
        "# 3. Optuna çalıştırarak en iyi parametreleri bulma\n",
        "study = optuna.create_study(direction=\"maximize\")  # Accuracy'yi maksimize etmeye çalışıyoruz\n",
        "study.optimize(objective, n_trials=100)  # Belirtilen sayıda deneme yapılacak (50 kez)\n",
        "\n",
        "# En iyi hiperparametreleri alma\n",
        "best_params = study.best_params\n",
        "print(\"En iyi hiperparametreler:\", best_params)\n"
      ],
      "metadata": {
        "colab": {
          "base_uri": "https://localhost:8080/"
        },
        "id": "wNn0fX-DHAed",
        "outputId": "dda4560b-288e-4820-83de-237b0e39223a"
      },
      "execution_count": null,
      "outputs": [
        {
          "output_type": "stream",
          "name": "stderr",
          "text": [
            "[I 2025-01-16 17:38:55,191] A new study created in memory with name: no-name-f897905c-fa41-45c4-a425-c751eb521294\n",
            "[I 2025-01-16 17:39:21,144] Trial 0 finished with value: 0.6464507020038924 and parameters: {'n_estimators': 117, 'max_depth': 22, 'min_samples_split': 19, 'min_samples_leaf': 3}. Best is trial 0 with value: 0.6464507020038924.\n",
            "[I 2025-01-16 17:39:26,221] Trial 1 finished with value: 0.6377288224650715 and parameters: {'n_estimators': 49, 'max_depth': 10, 'min_samples_split': 18, 'min_samples_leaf': 3}. Best is trial 0 with value: 0.6464507020038924.\n",
            "[I 2025-01-16 17:39:37,671] Trial 2 finished with value: 0.6423196154669741 and parameters: {'n_estimators': 105, 'max_depth': 20, 'min_samples_split': 18, 'min_samples_leaf': 20}. Best is trial 0 with value: 0.6464507020038924.\n",
            "[I 2025-01-16 17:40:02,884] Trial 3 finished with value: 0.6415774168553801 and parameters: {'n_estimators': 183, 'max_depth': 24, 'min_samples_split': 20, 'min_samples_leaf': 17}. Best is trial 0 with value: 0.6464507020038924.\n",
            "[I 2025-01-16 17:40:04,206] Trial 4 finished with value: 0.670951360716926 and parameters: {'n_estimators': 45, 'max_depth': 2, 'min_samples_split': 10, 'min_samples_leaf': 14}. Best is trial 4 with value: 0.670951360716926.\n",
            "[I 2025-01-16 17:40:11,933] Trial 5 finished with value: 0.6411579033958926 and parameters: {'n_estimators': 72, 'max_depth': 11, 'min_samples_split': 19, 'min_samples_leaf': 20}. Best is trial 4 with value: 0.670951360716926.\n",
            "[I 2025-01-16 17:40:32,841] Trial 6 finished with value: 0.6482056939974499 and parameters: {'n_estimators': 124, 'max_depth': 17, 'min_samples_split': 4, 'min_samples_leaf': 2}. Best is trial 4 with value: 0.670951360716926.\n",
            "[I 2025-01-16 17:40:48,240] Trial 7 finished with value: 0.6459393064969152 and parameters: {'n_estimators': 104, 'max_depth': 26, 'min_samples_split': 17, 'min_samples_leaf': 7}. Best is trial 4 with value: 0.670951360716926.\n",
            "[I 2025-01-16 17:41:01,750] Trial 8 finished with value: 0.6369594018884305 and parameters: {'n_estimators': 134, 'max_depth': 9, 'min_samples_split': 12, 'min_samples_leaf': 14}. Best is trial 4 with value: 0.670951360716926.\n",
            "[I 2025-01-16 17:41:07,554] Trial 9 finished with value: 0.6366884903507243 and parameters: {'n_estimators': 59, 'max_depth': 8, 'min_samples_split': 20, 'min_samples_leaf': 18}. Best is trial 4 with value: 0.670951360716926.\n",
            "[I 2025-01-16 17:41:07,900] Trial 10 finished with value: 0.6746918759272621 and parameters: {'n_estimators': 10, 'max_depth': 2, 'min_samples_split': 7, 'min_samples_leaf': 10}. Best is trial 10 with value: 0.6746918759272621.\n",
            "[I 2025-01-16 17:41:08,304] Trial 11 finished with value: 0.6738878848039291 and parameters: {'n_estimators': 11, 'max_depth': 2, 'min_samples_split': 7, 'min_samples_leaf': 10}. Best is trial 10 with value: 0.6746918759272621.\n",
            "[I 2025-01-16 17:41:08,912] Trial 12 finished with value: 0.6447269847949704 and parameters: {'n_estimators': 14, 'max_depth': 3, 'min_samples_split': 5, 'min_samples_leaf': 9}. Best is trial 10 with value: 0.6746918759272621.\n",
            "[I 2025-01-16 17:41:11,162] Trial 13 finished with value: 0.6496679011751112 and parameters: {'n_estimators': 19, 'max_depth': 32, 'min_samples_split': 8, 'min_samples_leaf': 11}. Best is trial 10 with value: 0.6746918759272621.\n",
            "[I 2025-01-16 17:41:11,883] Trial 14 finished with value: 0.6358181703386321 and parameters: {'n_estimators': 11, 'max_depth': 5, 'min_samples_split': 7, 'min_samples_leaf': 7}. Best is trial 10 with value: 0.6746918759272621.\n",
            "[I 2025-01-16 17:41:21,448] Trial 15 finished with value: 0.6435597640161339 and parameters: {'n_estimators': 77, 'max_depth': 15, 'min_samples_split': 2, 'min_samples_leaf': 12}. Best is trial 10 with value: 0.6746918759272621.\n",
            "[I 2025-01-16 17:41:32,505] Trial 16 finished with value: 0.6359772926147654 and parameters: {'n_estimators': 173, 'max_depth': 5, 'min_samples_split': 12, 'min_samples_leaf': 7}. Best is trial 10 with value: 0.6746918759272621.\n",
            "[I 2025-01-16 17:41:36,489] Trial 17 finished with value: 0.6462463371654064 and parameters: {'n_estimators': 34, 'max_depth': 14, 'min_samples_split': 14, 'min_samples_leaf': 9}. Best is trial 10 with value: 0.6746918759272621.\n",
            "[I 2025-01-16 17:41:46,305] Trial 18 finished with value: 0.6362599631472355 and parameters: {'n_estimators': 149, 'max_depth': 5, 'min_samples_split': 9, 'min_samples_leaf': 5}. Best is trial 10 with value: 0.6746918759272621.\n",
            "[I 2025-01-16 17:41:48,769] Trial 19 finished with value: 0.6711754114199648 and parameters: {'n_estimators': 84, 'max_depth': 2, 'min_samples_split': 6, 'min_samples_leaf': 13}. Best is trial 10 with value: 0.6746918759272621.\n",
            "[I 2025-01-16 17:42:05,007] Trial 20 finished with value: 0.6350272381109342 and parameters: {'n_estimators': 200, 'max_depth': 7, 'min_samples_split': 2, 'min_samples_leaf': 16}. Best is trial 10 with value: 0.6746918759272621.\n",
            "[I 2025-01-16 17:42:06,007] Trial 21 finished with value: 0.6717003553170147 and parameters: {'n_estimators': 33, 'max_depth': 2, 'min_samples_split': 6, 'min_samples_leaf': 13}. Best is trial 10 with value: 0.6746918759272621.\n",
            "[I 2025-01-16 17:42:09,422] Trial 22 finished with value: 0.6421913578645235 and parameters: {'n_estimators': 31, 'max_depth': 12, 'min_samples_split': 4, 'min_samples_leaf': 10}. Best is trial 10 with value: 0.6746918759272621.\n",
            "[I 2025-01-16 17:42:11,930] Trial 23 finished with value: 0.6364953330562052 and parameters: {'n_estimators': 30, 'max_depth': 5, 'min_samples_split': 7, 'min_samples_leaf': 15}. Best is trial 10 with value: 0.6746918759272621.\n",
            "[I 2025-01-16 17:42:13,993] Trial 24 finished with value: 0.671154933341753 and parameters: {'n_estimators': 60, 'max_depth': 2, 'min_samples_split': 10, 'min_samples_leaf': 12}. Best is trial 10 with value: 0.6746918759272621.\n",
            "[I 2025-01-16 17:42:16,009] Trial 25 finished with value: 0.6340498361004288 and parameters: {'n_estimators': 25, 'max_depth': 7, 'min_samples_split': 4, 'min_samples_leaf': 10}. Best is trial 10 with value: 0.6746918759272621.\n",
            "[I 2025-01-16 17:42:16,627] Trial 26 finished with value: 0.6392276364692107 and parameters: {'n_estimators': 11, 'max_depth': 4, 'min_samples_split': 8, 'min_samples_leaf': 8}. Best is trial 10 with value: 0.6746918759272621.\n",
            "[I 2025-01-16 17:42:20,350] Trial 27 finished with value: 0.6337972301678404 and parameters: {'n_estimators': 46, 'max_depth': 7, 'min_samples_split': 6, 'min_samples_leaf': 5}. Best is trial 10 with value: 0.6746918759272621.\n",
            "[I 2025-01-16 17:42:25,095] Trial 28 finished with value: 0.645006404224405 and parameters: {'n_estimators': 38, 'max_depth': 13, 'min_samples_split': 15, 'min_samples_leaf': 12}. Best is trial 10 with value: 0.6746918759272621.\n",
            "[I 2025-01-16 17:42:34,131] Trial 29 finished with value: 0.6500121941772307 and parameters: {'n_estimators': 62, 'max_depth': 29, 'min_samples_split': 11, 'min_samples_leaf': 5}. Best is trial 10 with value: 0.6746918759272621.\n",
            "[I 2025-01-16 17:42:43,511] Trial 30 finished with value: 0.6358914469200483 and parameters: {'n_estimators': 91, 'max_depth': 9, 'min_samples_split': 8, 'min_samples_leaf': 11}. Best is trial 10 with value: 0.6746918759272621.\n",
            "[I 2025-01-16 17:42:45,854] Trial 31 finished with value: 0.671178041278468 and parameters: {'n_estimators': 79, 'max_depth': 2, 'min_samples_split': 6, 'min_samples_leaf': 13}. Best is trial 10 with value: 0.6746918759272621.\n",
            "[I 2025-01-16 17:42:47,047] Trial 32 finished with value: 0.6396012073298103 and parameters: {'n_estimators': 23, 'max_depth': 4, 'min_samples_split': 6, 'min_samples_leaf': 14}. Best is trial 10 with value: 0.6746918759272621.\n",
            "[I 2025-01-16 17:42:48,540] Trial 33 finished with value: 0.6709838235132379 and parameters: {'n_estimators': 50, 'max_depth': 2, 'min_samples_split': 3, 'min_samples_leaf': 13}. Best is trial 10 with value: 0.6746918759272621.\n",
            "[I 2025-01-16 17:42:55,988] Trial 34 finished with value: 0.635078467761866 and parameters: {'n_estimators': 95, 'max_depth': 6, 'min_samples_split': 5, 'min_samples_leaf': 16}. Best is trial 10 with value: 0.6746918759272621.\n"
          ]
        }
      ]
    },
    {
      "cell_type": "code",
      "source": [
        "# 4. En iyi parametrelerle modeli yeniden eğitme - Changed to Regressor\n",
        "final_model = RandomForestRegressor(**best_params, random_state=42)\n",
        "final_model.fit(X_train, y_train)"
      ],
      "metadata": {
        "id": "qnbVd--eG-1P"
      },
      "execution_count": null,
      "outputs": []
    },
    {
      "cell_type": "code",
      "source": [
        "# 5. Modeli test seti üzerinde değerlendirme - Changed metric to MSE\n",
        "y_pred = final_model.predict(X_test)\n",
        "mse = mean_squared_error(y_test, y_pred)\n",
        "print(\"Test seti ortalama kare hatası:\", mse)"
      ],
      "metadata": {
        "id": "TX5sflGLG9kL"
      },
      "execution_count": null,
      "outputs": []
    },
    {
      "cell_type": "markdown",
      "source": [
        "##. Gerçek ve Tahmin Edilen Değerlerin Karşılaştırılması (Scatter Plot)"
      ],
      "metadata": {
        "id": "6U5NtVncLzMF"
      }
    },
    {
      "cell_type": "code",
      "source": [
        "import matplotlib.pyplot as plt\n",
        "\n",
        "# Gerçek ve tahmin edilen değerleri karşılaştıran scatter plot\n",
        "plt.figure(figsize=(8, 6))\n",
        "plt.scatter(y_test, y_pred, alpha=0.6, color='blue')\n",
        "plt.plot([y_test.min(), y_test.max()], [y_test.min(), y_test.max()], color='red', linestyle='--')\n",
        "plt.title(\"Gerçek vs Tahmin Edilen GPA\")\n",
        "plt.xlabel(\"Gerçek GPA\")\n",
        "plt.ylabel(\"Tahmin Edilen GPA\")\n",
        "plt.grid(True)\n",
        "plt.show()\n"
      ],
      "metadata": {
        "id": "hmOcp6xSLHKW"
      },
      "execution_count": null,
      "outputs": []
    },
    {
      "cell_type": "markdown",
      "source": [
        "## 2. Hataların Dağılımı (Residual Plot)"
      ],
      "metadata": {
        "id": "EyT5ELfeL2wn"
      }
    },
    {
      "cell_type": "code",
      "source": [
        "import seaborn as sns\n",
        "\n",
        "# Modelin hataları\n",
        "residuals = y_test - y_pred\n",
        "\n",
        "# Hataların dağılımını gösteren histogram\n",
        "plt.figure(figsize=(8, 6))\n",
        "sns.histplot(residuals, kde=True, color='purple', bins=30)\n",
        "plt.title(\"Model Hatalarının Dağılımı\")\n",
        "plt.xlabel(\"Residuals (Hatalar)\")\n",
        "plt.ylabel(\"Frekans\")\n",
        "plt.grid(True)\n",
        "plt.show()\n"
      ],
      "metadata": {
        "id": "skCKiMN2L5mB"
      },
      "execution_count": null,
      "outputs": []
    }
  ]
}